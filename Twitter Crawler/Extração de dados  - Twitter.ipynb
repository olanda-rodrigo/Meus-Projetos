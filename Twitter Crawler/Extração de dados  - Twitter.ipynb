{
 "cells": [
  {
   "cell_type": "markdown",
   "metadata": {},
   "source": [
    "## Algoritmo para extração de dados do Twitter\n"
   ]
  },
  {
   "cell_type": "code",
   "execution_count": 1,
   "metadata": {},
   "outputs": [
    {
     "name": "stdout",
     "output_type": "stream",
     "text": [
      "Collecting tweepy\n",
      "  Downloading tweepy-3.9.0-py2.py3-none-any.whl (30 kB)\n",
      "Collecting datetime\n",
      "  Downloading DateTime-4.3-py2.py3-none-any.whl (60 kB)\n",
      "Requirement already satisfied: requests[socks]>=2.11.1 in c:\\users\\rodrigo\\anaconda3\\lib\\site-packages (from tweepy) (2.22.0)\n",
      "Requirement already satisfied: six>=1.10.0 in c:\\users\\rodrigo\\anaconda3\\lib\\site-packages (from tweepy) (1.14.0)\n",
      "Collecting requests-oauthlib>=0.7.0\n",
      "  Downloading requests_oauthlib-1.3.0-py2.py3-none-any.whl (23 kB)\n",
      "Requirement already satisfied: pytz in c:\\users\\rodrigo\\anaconda3\\lib\\site-packages (from datetime) (2019.3)\n",
      "Collecting zope.interface\n",
      "  Downloading zope.interface-5.2.0-cp37-cp37m-win_amd64.whl (196 kB)\n",
      "Requirement already satisfied: chardet<3.1.0,>=3.0.2 in c:\\users\\rodrigo\\anaconda3\\lib\\site-packages (from requests[socks]>=2.11.1->tweepy) (3.0.4)\n",
      "Requirement already satisfied: idna<2.9,>=2.5 in c:\\users\\rodrigo\\anaconda3\\lib\\site-packages (from requests[socks]>=2.11.1->tweepy) (2.8)\n",
      "Requirement already satisfied: certifi>=2017.4.17 in c:\\users\\rodrigo\\anaconda3\\lib\\site-packages (from requests[socks]>=2.11.1->tweepy) (2019.11.28)\n",
      "Requirement already satisfied: urllib3!=1.25.0,!=1.25.1,<1.26,>=1.21.1 in c:\\users\\rodrigo\\anaconda3\\lib\\site-packages (from requests[socks]>=2.11.1->tweepy) (1.25.8)\n",
      "Requirement already satisfied: PySocks!=1.5.7,>=1.5.6; extra == \"socks\" in c:\\users\\rodrigo\\anaconda3\\lib\\site-packages (from requests[socks]>=2.11.1->tweepy) (1.7.1)\n",
      "Collecting oauthlib>=3.0.0\n",
      "  Downloading oauthlib-3.1.0-py2.py3-none-any.whl (147 kB)\n",
      "Requirement already satisfied: setuptools in c:\\users\\rodrigo\\anaconda3\\lib\\site-packages (from zope.interface->datetime) (45.2.0.post20200210)\n",
      "Installing collected packages: oauthlib, requests-oauthlib, tweepy, zope.interface, datetime\n",
      "Successfully installed datetime-4.3 oauthlib-3.1.0 requests-oauthlib-1.3.0 tweepy-3.9.0 zope.interface-5.2.0\n"
     ]
    }
   ],
   "source": [
    "# instalando as bibliotecas\n",
    "\n",
    "!pip install tweepy datetime"
   ]
  },
  {
   "cell_type": "markdown",
   "metadata": {},
   "source": [
    "## Fire in the Hole!"
   ]
  },
  {
   "cell_type": "code",
   "execution_count": null,
   "metadata": {},
   "outputs": [],
   "source": [
    "!python twitter_project.py"
   ]
  },
  {
   "cell_type": "markdown",
   "metadata": {},
   "source": [
    "## Entendendo a estrutura do arquivo JSON"
   ]
  },
  {
   "cell_type": "code",
   "execution_count": 2,
   "metadata": {},
   "outputs": [],
   "source": [
    "import json"
   ]
  },
  {
   "cell_type": "code",
   "execution_count": 3,
   "metadata": {},
   "outputs": [],
   "source": [
    "# abrindo nosso arquivo para leitura\n",
    "\n",
    "with open ('dados_coletados_2020-11-30-09-04-49.txt', 'r') as file:\n",
    "    tweets = file.readlines()"
   ]
  },
  {
   "cell_type": "code",
   "execution_count": 5,
   "metadata": {},
   "outputs": [
    {
     "data": {
      "text/plain": [
       "list"
      ]
     },
     "execution_count": 5,
     "metadata": {},
     "output_type": "execute_result"
    }
   ],
   "source": [
    "# abrindo a PRIMEIRA linha do arquivo\n",
    "\n",
    "type(tweets)"
   ]
  },
  {
   "cell_type": "code",
   "execution_count": 4,
   "metadata": {},
   "outputs": [],
   "source": [
    "# vamos ler um arquivo em formato JSON agora, já fazendo o Parse\n",
    "\n",
    "with open ('tweet.json', 'w') as f:\n",
    "    json.dump(\n",
    "        json.loads(json.loads(tweets[0])),\n",
    "        f    \n",
    "    )\n",
    "     "
   ]
  },
  {
   "cell_type": "code",
   "execution_count": 5,
   "metadata": {},
   "outputs": [
    {
     "data": {
      "text/plain": [
       "dict"
      ]
     },
     "execution_count": 5,
     "metadata": {},
     "output_type": "execute_result"
    }
   ],
   "source": [
    "# atribuindo o tweet a uma variação e checando o seu tipo\n",
    "\n",
    "first_tt = json.loads(json.loads(tweets[0]))\n",
    "type(first_tt)"
   ]
  },
  {
   "cell_type": "code",
   "execution_count": 6,
   "metadata": {},
   "outputs": [],
   "source": [
    "# parseando todos os tweets de uma vez usando list compreension\n",
    "\n",
    "parsed_tweets = [json.loads(json.loads(i) ) for i in tweets]"
   ]
  },
  {
   "cell_type": "code",
   "execution_count": 7,
   "metadata": {},
   "outputs": [
    {
     "data": {
      "text/plain": [
       "5"
      ]
     },
     "execution_count": 7,
     "metadata": {},
     "output_type": "execute_result"
    }
   ],
   "source": [
    "# quantidades de tweets coletados\n",
    "\n",
    "len(parsed_tweets)"
   ]
  },
  {
   "cell_type": "markdown",
   "metadata": {},
   "source": [
    "## Acessando as chaves dos tweets"
   ]
  },
  {
   "cell_type": "code",
   "execution_count": 8,
   "metadata": {},
   "outputs": [
    {
     "data": {
      "text/plain": [
       "dict_keys(['created_at', 'id', 'id_str', 'text', 'source', 'truncated', 'in_reply_to_status_id', 'in_reply_to_status_id_str', 'in_reply_to_user_id', 'in_reply_to_user_id_str', 'in_reply_to_screen_name', 'user', 'geo', 'coordinates', 'place', 'contributors', 'quoted_status_id', 'quoted_status_id_str', 'quoted_status', 'quoted_status_permalink', 'is_quote_status', 'extended_tweet', 'quote_count', 'reply_count', 'retweet_count', 'favorite_count', 'entities', 'favorited', 'retweeted', 'filter_level', 'lang', 'timestamp_ms'])"
      ]
     },
     "execution_count": 8,
     "metadata": {},
     "output_type": "execute_result"
    }
   ],
   "source": [
    "# todas as chaves do primeiro tweet\n",
    "\n",
    "parsed_tweets[0].keys()"
   ]
  },
  {
   "cell_type": "code",
   "execution_count": 9,
   "metadata": {},
   "outputs": [
    {
     "data": {
      "text/plain": [
       "dict_values(['Mon Nov 30 12:04:53 +0000 2020', 1333381482933596161, '1333381482933596161', '@TVBandMinas\\n@tvbandpaulista\\n@TVBandSPNews\\n@TVCancaoNova\\n@UJSBRASIL\\n@ultimosegundo\\n@UltrafarmaEVoce\\n@uneoficial… https://t.co/wr18e7AALZ', '<a href=\"https://mobile.twitter.com\" rel=\"nofollow\">Twitter Web App</a>', True, None, None, 525660972, '525660972', 'TVBandMinas', {'id': 1134942145763258368, 'id_str': '1134942145763258368', 'name': 'Maria Izabel Lula Rousseff💦🌎🐬🐋⭐🦋✨🌠💗🚩🚩🚩🚩', 'screen_name': 'IzabelLula', 'location': 'São Paulo, Brasil', 'url': None, 'description': 'São Paulo - BRASIL  🚩\\nSDV ! #NinguemApagaANossaEstrela  #DireitosHumanos  #DefendaOSUS #SOSAmazonia', 'translator_type': 'none', 'protected': False, 'verified': False, 'followers_count': 5850, 'friends_count': 6398, 'listed_count': 1, 'favourites_count': 4738, 'statuses_count': 60163, 'created_at': 'Sat Jun 01 21:57:48 +0000 2019', 'utc_offset': None, 'time_zone': None, 'geo_enabled': False, 'lang': None, 'contributors_enabled': False, 'is_translator': False, 'profile_background_color': '000000', 'profile_background_image_url': 'http://abs.twimg.com/images/themes/theme1/bg.png', 'profile_background_image_url_https': 'https://abs.twimg.com/images/themes/theme1/bg.png', 'profile_background_tile': False, 'profile_link_color': 'F58EA8', 'profile_sidebar_border_color': '000000', 'profile_sidebar_fill_color': '000000', 'profile_text_color': '000000', 'profile_use_background_image': False, 'profile_image_url': 'http://pbs.twimg.com/profile_images/1248932002792984577/EVe0U_tG_normal.jpg', 'profile_image_url_https': 'https://pbs.twimg.com/profile_images/1248932002792984577/EVe0U_tG_normal.jpg', 'profile_banner_url': 'https://pbs.twimg.com/profile_banners/1134942145763258368/1587216829', 'default_profile': False, 'default_profile_image': False, 'following': None, 'follow_request_sent': None, 'notifications': None}, None, None, None, None, 1332050743499628544, '1332050743499628544', {'created_at': 'Thu Nov 26 19:57:00 +0000 2020', 'id': 1332050743499628544, 'id_str': '1332050743499628544', 'text': 'Pode isso, produção?  \\nAlô @TRESPjusbr!!!!!!\\nCestas básicas sendo distribuídas na Zona Norte de São Paulo com carro… https://t.co/VFFGBeScjg', 'display_text_range': [0, 140], 'source': '<a href=\"http://twitter.com/download/android\" rel=\"nofollow\">Twitter for Android</a>', 'truncated': True, 'in_reply_to_status_id': None, 'in_reply_to_status_id_str': None, 'in_reply_to_user_id': None, 'in_reply_to_user_id_str': None, 'in_reply_to_screen_name': None, 'user': {'id': 1278278688522547201, 'id_str': '1278278688522547201', 'name': 'Dilma Debochada', 'screen_name': 'DilmaPT_', 'location': None, 'url': None, 'description': 'Primeira MULHER Presidente do Brasil', 'translator_type': 'none', 'protected': False, 'verified': False, 'followers_count': 10687, 'friends_count': 8585, 'listed_count': 15, 'favourites_count': 7997, 'statuses_count': 3592, 'created_at': 'Wed Jul 01 10:46:29 +0000 2020', 'utc_offset': None, 'time_zone': None, 'geo_enabled': False, 'lang': None, 'contributors_enabled': False, 'is_translator': False, 'profile_background_color': 'F5F8FA', 'profile_background_image_url': '', 'profile_background_image_url_https': '', 'profile_background_tile': False, 'profile_link_color': '1DA1F2', 'profile_sidebar_border_color': 'C0DEED', 'profile_sidebar_fill_color': 'DDEEF6', 'profile_text_color': '333333', 'profile_use_background_image': True, 'profile_image_url': 'http://pbs.twimg.com/profile_images/1331031975017279488/1xJ6L5Jn_normal.jpg', 'profile_image_url_https': 'https://pbs.twimg.com/profile_images/1331031975017279488/1xJ6L5Jn_normal.jpg', 'profile_banner_url': 'https://pbs.twimg.com/profile_banners/1278278688522547201/1606178385', 'default_profile': True, 'default_profile_image': False, 'following': None, 'follow_request_sent': None, 'notifications': None}, 'geo': None, 'coordinates': None, 'place': None, 'contributors': None, 'is_quote_status': False, 'extended_tweet': {'full_text': 'Pode isso, produção?  \\nAlô @TRESPjusbr!!!!!!\\nCestas básicas sendo distribuídas na Zona Norte de São Paulo com carros de som fazendo campanha pro @brunocovas em volta.\\n\\n#ForaBolsonaro #CovasCompraVotos https://t.co/sKRWnHvbV4', 'display_text_range': [0, 200], 'entities': {'hashtags': [{'text': 'ForaBolsonaro', 'indices': [168, 182]}, {'text': 'CovasCompraVotos', 'indices': [183, 200]}], 'urls': [], 'user_mentions': [{'screen_name': 'TRESPjusbr', 'name': 'TRE-SP', 'id': 305655302, 'id_str': '305655302', 'indices': [27, 38]}, {'screen_name': 'brunocovas', 'name': 'Bruno Covas', 'id': 18048666, 'id_str': '18048666', 'indices': [145, 156]}], 'symbols': [], 'media': [{'id': 1332050358047215622, 'id_str': '1332050358047215622', 'indices': [201, 224], 'additional_media_info': {'monetizable': False}, 'media_url': 'http://pbs.twimg.com/ext_tw_video_thumb/1332050358047215622/pu/img/b7adxUSc7hX9a3jp.jpg', 'media_url_https': 'https://pbs.twimg.com/ext_tw_video_thumb/1332050358047215622/pu/img/b7adxUSc7hX9a3jp.jpg', 'url': 'https://t.co/sKRWnHvbV4', 'display_url': 'pic.twitter.com/sKRWnHvbV4', 'expanded_url': 'https://twitter.com/DilmaPT_/status/1332050743499628544/video/1', 'type': 'video', 'video_info': {'aspect_ratio': [5, 9], 'duration_millis': 54008, 'variants': [{'content_type': 'application/x-mpegURL', 'url': 'https://video.twimg.com/ext_tw_video/1332050358047215622/pu/pl/XYokggyz0oxnB40e.m3u8?tag=10'}, {'bitrate': 832000, 'content_type': 'video/mp4', 'url': 'https://video.twimg.com/ext_tw_video/1332050358047215622/pu/vid/360x648/FWq4H5YSq1wVW6vQ.mp4?tag=10'}, {'bitrate': 2176000, 'content_type': 'video/mp4', 'url': 'https://video.twimg.com/ext_tw_video/1332050358047215622/pu/vid/480x864/eqGoebjH3Xwu-boy.mp4?tag=10'}, {'bitrate': 632000, 'content_type': 'video/mp4', 'url': 'https://video.twimg.com/ext_tw_video/1332050358047215622/pu/vid/320x576/RjRu3Lm_9Hr7eGV2.mp4?tag=10'}]}, 'sizes': {'thumb': {'w': 150, 'h': 150, 'resize': 'crop'}, 'large': {'w': 480, 'h': 864, 'resize': 'fit'}, 'small': {'w': 378, 'h': 680, 'resize': 'fit'}, 'medium': {'w': 480, 'h': 864, 'resize': 'fit'}}}]}, 'extended_entities': {'media': [{'id': 1332050358047215622, 'id_str': '1332050358047215622', 'indices': [201, 224], 'additional_media_info': {'monetizable': False}, 'media_url': 'http://pbs.twimg.com/ext_tw_video_thumb/1332050358047215622/pu/img/b7adxUSc7hX9a3jp.jpg', 'media_url_https': 'https://pbs.twimg.com/ext_tw_video_thumb/1332050358047215622/pu/img/b7adxUSc7hX9a3jp.jpg', 'url': 'https://t.co/sKRWnHvbV4', 'display_url': 'pic.twitter.com/sKRWnHvbV4', 'expanded_url': 'https://twitter.com/DilmaPT_/status/1332050743499628544/video/1', 'type': 'video', 'video_info': {'aspect_ratio': [5, 9], 'duration_millis': 54008, 'variants': [{'content_type': 'application/x-mpegURL', 'url': 'https://video.twimg.com/ext_tw_video/1332050358047215622/pu/pl/XYokggyz0oxnB40e.m3u8?tag=10'}, {'bitrate': 832000, 'content_type': 'video/mp4', 'url': 'https://video.twimg.com/ext_tw_video/1332050358047215622/pu/vid/360x648/FWq4H5YSq1wVW6vQ.mp4?tag=10'}, {'bitrate': 2176000, 'content_type': 'video/mp4', 'url': 'https://video.twimg.com/ext_tw_video/1332050358047215622/pu/vid/480x864/eqGoebjH3Xwu-boy.mp4?tag=10'}, {'bitrate': 632000, 'content_type': 'video/mp4', 'url': 'https://video.twimg.com/ext_tw_video/1332050358047215622/pu/vid/320x576/RjRu3Lm_9Hr7eGV2.mp4?tag=10'}]}, 'sizes': {'thumb': {'w': 150, 'h': 150, 'resize': 'crop'}, 'large': {'w': 480, 'h': 864, 'resize': 'fit'}, 'small': {'w': 378, 'h': 680, 'resize': 'fit'}, 'medium': {'w': 480, 'h': 864, 'resize': 'fit'}}}]}}, 'quote_count': 54, 'reply_count': 25, 'retweet_count': 158, 'favorite_count': 547, 'entities': {'hashtags': [], 'urls': [{'url': 'https://t.co/VFFGBeScjg', 'expanded_url': 'https://twitter.com/i/web/status/1332050743499628544', 'display_url': 'twitter.com/i/web/status/1…', 'indices': [117, 140]}], 'user_mentions': [{'screen_name': 'TRESPjusbr', 'name': 'TRE-SP', 'id': 305655302, 'id_str': '305655302', 'indices': [27, 38]}], 'symbols': []}, 'favorited': False, 'retweeted': False, 'possibly_sensitive': False, 'filter_level': 'low', 'lang': 'pt'}, {'url': 'https://t.co/ZtYDiiUPoR', 'expanded': 'https://twitter.com/DilmaPT_/status/1332050743499628544', 'display': 'twitter.com/DilmaPT_/statu…'}, True, {'full_text': '@TVBandMinas\\n@tvbandpaulista\\n@TVBandSPNews\\n@TVCancaoNova\\n@UJSBRASIL\\n@ultimosegundo\\n@UltrafarmaEVoce\\n@uneoficial\\n@universitariaOF\\n@UOL\\n@UOLEconomia\\n@UOLNoticias\\n@UOLPolitica\\n@valoreconomico\\n@VEJA\\n@VejaSP\\n@veramagalhaes\\n\\nPSDB compra de votos!!!!!!!!!!!!!!!!', 'display_text_range': [0, 255], 'entities': {'hashtags': [], 'urls': [], 'user_mentions': [{'screen_name': 'TVBandMinas', 'name': 'TV Band Minas', 'id': 525660972, 'id_str': '525660972', 'indices': [0, 12]}, {'screen_name': 'tvbandpaulista', 'name': 'Band Paulista', 'id': 121103502, 'id_str': '121103502', 'indices': [13, 28]}, {'screen_name': 'TVBandSPNews', 'name': 'TV Band SP News', 'id': 293206459, 'id_str': '293206459', 'indices': [29, 42]}, {'screen_name': 'TVCancaoNova', 'name': '@tvcancaonova', 'id': 23442538, 'id_str': '23442538', 'indices': [43, 56]}, {'screen_name': 'UJSBRASIL', 'name': 'UJS', 'id': 62902198, 'id_str': '62902198', 'indices': [57, 67]}, {'screen_name': 'ultimosegundo', 'name': 'iG Último Segundo', 'id': 8110402, 'id_str': '8110402', 'indices': [68, 82]}, {'screen_name': 'UltrafarmaEVoce', 'name': 'Ultrafarma.com', 'id': 65625467, 'id_str': '65625467', 'indices': [83, 99]}, {'screen_name': 'uneoficial', 'name': 'União Nacional dos Estudantes - UNE', 'id': 60640635, 'id_str': '60640635', 'indices': [100, 111]}, {'screen_name': 'universitariaOF', 'name': 'Deprê Universitária', 'id': 857738041208840192, 'id_str': '857738041208840192', 'indices': [112, 128]}, {'screen_name': 'UOL', 'name': 'UOL', 'id': 70799317, 'id_str': '70799317', 'indices': [129, 133]}, {'screen_name': 'UOLEconomia', 'name': 'UOL Economia', 'id': 14594760, 'id_str': '14594760', 'indices': [134, 146]}, {'screen_name': 'UOLNoticias', 'name': 'UOL Notícias', 'id': 14594698, 'id_str': '14594698', 'indices': [147, 159]}, {'screen_name': 'UOLPolitica', 'name': 'UOL Política', 'id': 133435134, 'id_str': '133435134', 'indices': [160, 172]}, {'screen_name': 'valoreconomico', 'name': 'Valor Econômico', 'id': 32529120, 'id_str': '32529120', 'indices': [173, 188]}, {'screen_name': 'VEJA', 'name': 'VEJA', 'id': 17715048, 'id_str': '17715048', 'indices': [189, 194]}, {'screen_name': 'VejaSP', 'name': 'VEJA São Paulo', 'id': 23224461, 'id_str': '23224461', 'indices': [195, 202]}, {'screen_name': 'veramagalhaes', 'name': 'Vera Magalhães', 'id': 19667016, 'id_str': '19667016', 'indices': [203, 217]}], 'symbols': []}}, 0, 0, 0, 0, {'hashtags': [], 'urls': [{'url': 'https://t.co/wr18e7AALZ', 'expanded_url': 'https://twitter.com/i/web/status/1333381482933596161', 'display_url': 'twitter.com/i/web/status/1…', 'indices': [113, 136]}], 'user_mentions': [{'screen_name': 'TVBandMinas', 'name': 'TV Band Minas', 'id': 525660972, 'id_str': '525660972', 'indices': [0, 12]}, {'screen_name': 'tvbandpaulista', 'name': 'Band Paulista', 'id': 121103502, 'id_str': '121103502', 'indices': [13, 28]}, {'screen_name': 'TVBandSPNews', 'name': 'TV Band SP News', 'id': 293206459, 'id_str': '293206459', 'indices': [29, 42]}, {'screen_name': 'TVCancaoNova', 'name': '@tvcancaonova', 'id': 23442538, 'id_str': '23442538', 'indices': [43, 56]}, {'screen_name': 'UJSBRASIL', 'name': 'UJS', 'id': 62902198, 'id_str': '62902198', 'indices': [57, 67]}, {'screen_name': 'ultimosegundo', 'name': 'iG Último Segundo', 'id': 8110402, 'id_str': '8110402', 'indices': [68, 82]}, {'screen_name': 'UltrafarmaEVoce', 'name': 'Ultrafarma.com', 'id': 65625467, 'id_str': '65625467', 'indices': [83, 99]}, {'screen_name': 'uneoficial', 'name': 'União Nacional dos Estudantes - UNE', 'id': 60640635, 'id_str': '60640635', 'indices': [100, 111]}], 'symbols': []}, False, False, 'low', 'pt', '1606737893218'])"
      ]
     },
     "execution_count": 9,
     "metadata": {},
     "output_type": "execute_result"
    }
   ],
   "source": [
    "# todos os valores do primeiro tweets\n",
    "\n",
    "parsed_tweets[0].values()"
   ]
  },
  {
   "cell_type": "code",
   "execution_count": 10,
   "metadata": {},
   "outputs": [],
   "source": [
    "# atribuindo o primeiro tweet para uma variável\n",
    "\n",
    "primeiro_tt = parsed_tweets[0]"
   ]
  },
  {
   "cell_type": "code",
   "execution_count": 11,
   "metadata": {},
   "outputs": [
    {
     "data": {
      "text/plain": [
       "'@TVBandMinas\\n@tvbandpaulista\\n@TVBandSPNews\\n@TVCancaoNova\\n@UJSBRASIL\\n@ultimosegundo\\n@UltrafarmaEVoce\\n@uneoficial… https://t.co/wr18e7AALZ'"
      ]
     },
     "execution_count": 11,
     "metadata": {},
     "output_type": "execute_result"
    }
   ],
   "source": [
    "# acessando o texto de 1st nível\n",
    "\n",
    "primeiro_tt['text']"
   ]
  },
  {
   "cell_type": "code",
   "execution_count": 12,
   "metadata": {},
   "outputs": [
    {
     "data": {
      "text/plain": [
       "'IzabelLula'"
      ]
     },
     "execution_count": 12,
     "metadata": {},
     "output_type": "execute_result"
    }
   ],
   "source": [
    "# acessando infos de usuário\n",
    "\n",
    "primeiro_tt['user']['screen_name']\n"
   ]
  },
  {
   "cell_type": "code",
   "execution_count": 14,
   "metadata": {},
   "outputs": [
    {
     "data": {
      "text/plain": [
       "1134942145763258368"
      ]
     },
     "execution_count": 14,
     "metadata": {},
     "output_type": "execute_result"
    }
   ],
   "source": [
    "# acessando dados aninhados\n",
    "\n",
    "primeiro_tt['user']['id']"
   ]
  },
  {
   "cell_type": "code",
   "execution_count": null,
   "metadata": {},
   "outputs": [],
   "source": []
  },
  {
   "cell_type": "code",
   "execution_count": null,
   "metadata": {},
   "outputs": [],
   "source": []
  },
  {
   "cell_type": "code",
   "execution_count": null,
   "metadata": {},
   "outputs": [],
   "source": []
  },
  {
   "cell_type": "code",
   "execution_count": null,
   "metadata": {},
   "outputs": [],
   "source": []
  },
  {
   "cell_type": "code",
   "execution_count": null,
   "metadata": {},
   "outputs": [],
   "source": []
  },
  {
   "cell_type": "code",
   "execution_count": null,
   "metadata": {},
   "outputs": [],
   "source": []
  },
  {
   "cell_type": "code",
   "execution_count": null,
   "metadata": {},
   "outputs": [],
   "source": []
  },
  {
   "cell_type": "code",
   "execution_count": null,
   "metadata": {},
   "outputs": [],
   "source": []
  },
  {
   "cell_type": "code",
   "execution_count": null,
   "metadata": {},
   "outputs": [],
   "source": []
  }
 ],
 "metadata": {
  "kernelspec": {
   "display_name": "Python 3",
   "language": "python",
   "name": "python3"
  },
  "language_info": {
   "codemirror_mode": {
    "name": "ipython",
    "version": 3
   },
   "file_extension": ".py",
   "mimetype": "text/x-python",
   "name": "python",
   "nbconvert_exporter": "python",
   "pygments_lexer": "ipython3",
   "version": "3.7.6"
  }
 },
 "nbformat": 4,
 "nbformat_minor": 4
}
