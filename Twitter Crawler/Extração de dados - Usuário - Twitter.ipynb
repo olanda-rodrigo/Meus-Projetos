{
 "cells": [
  {
   "cell_type": "code",
   "execution_count": 7,
   "metadata": {},
   "outputs": [
    {
     "name": "stdout",
     "output_type": "stream",
     "text": [
      "Requirement already satisfied: datetime in c:\\users\\rodrigo\\anaconda3\\lib\\site-packages (4.3)\n",
      "Requirement already satisfied: zope.interface in c:\\users\\rodrigo\\anaconda3\\lib\\site-packages (from datetime) (5.2.0)\n",
      "Requirement already satisfied: pytz in c:\\users\\rodrigo\\anaconda3\\lib\\site-packages (from datetime) (2019.3)\n",
      "Requirement already satisfied: setuptools in c:\\users\\rodrigo\\anaconda3\\lib\\site-packages (from zope.interface->datetime) (45.2.0.post20200210)\n"
     ]
    }
   ],
   "source": [
    "! pip install datetime"
   ]
  },
  {
   "cell_type": "code",
   "execution_count": 4,
   "metadata": {},
   "outputs": [],
   "source": [
    "# acessar https://apps.twitter.com para criar uma nova aplicação\n",
    "# cada aplicação tem suas próprias chaves\n",
    "\n",
    "import tweepy\n",
    "import re\n",
    "from datetime import datetime\n",
    "\n",
    "# acessar a aba \"Keys and Access Tokens\"\n",
    "# passa o Consumer Key e o Consumer Secret\n",
    "auth = tweepy.OAuthHandler('Inserir chaves da API', 'Inserir chaves da API')\n",
    "\n",
    "# define o token de acesso\n",
    "# para criar basta clicar em \"Create my access token\"\n",
    "# passa o \"Access Token\" e o \"Access Token Secret\"\n",
    "auth.set_access_token('Inserir chaves da API',\n",
    "\t\t'Inserir chaves da API')\n",
    "\n",
    "# cria um objeto api\n",
    "api = tweepy.API(auth)\n",
    "\n",
    "# obtém tweets de um dado usuário\n",
    "def obter_tweets(usuario, limite=10):\n",
    "\tresultados = api.user_timeline(screen_name=usuario, count=limite, tweet_mode='extended')\n",
    "\ttweets = [] # lista de tweets inicialmente vazia\n",
    "\tfor r in resultados:\n",
    "\t\t# utiliza expressão regular para remover a URL do tweet\n",
    "\t\t# http pega o início da url\n",
    "\t\t# \\S+ pega os caracteres não brancos (o final da URL) \n",
    "\t\ttweet = re.sub(r'http\\S+', '', r.full_text)\n",
    "\t\ttweets.append(tweet.replace('\\n', ' ')) # adiciona na lista\n",
    "\treturn tweets # retorna a lista de tweets\n",
    "\n",
    "# escreve os tweets em um arquivo 'tweets.txt'\n",
    "tweets = obter_tweets(usuario='inserir username', limite=500)\n",
    "data_hoje = datetime.now().strftime('%Y-%m-%d-%H-%M-%S')\n",
    "with open(f'tweets_{data_hoje}.txt', 'w', encoding='utf8') as f:\n",
    "\tf.write('\\n'.join(tweets))"
   ]
  },
  {
   "cell_type": "code",
   "execution_count": null,
   "metadata": {},
   "outputs": [],
   "source": []
  }
 ],
 "metadata": {
  "kernelspec": {
   "display_name": "Python 3",
   "language": "python",
   "name": "python3"
  },
  "language_info": {
   "codemirror_mode": {
    "name": "ipython",
    "version": 3
   },
   "file_extension": ".py",
   "mimetype": "text/x-python",
   "name": "python",
   "nbconvert_exporter": "python",
   "pygments_lexer": "ipython3",
   "version": "3.7.6"
  }
 },
 "nbformat": 4,
 "nbformat_minor": 4
}
